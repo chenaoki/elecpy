{
 "cells": [
  {
   "cell_type": "markdown",
   "metadata": {},
   "source": [
    "# basic"
   ]
  },
  {
   "cell_type": "code",
   "execution_count": 1,
   "metadata": {
    "collapsed": false
   },
   "outputs": [],
   "source": [
    "#!/usr/local/bin/python\n",
    "\n",
    "import os, sys\n",
    "import json\n",
    "import numpy as np\n",
    "import matplotlib.pyplot as plt\n",
    "import chainer\n",
    "from chainer import cuda\n",
    "from matplotlib import animation\n",
    "from optparse import OptionParser\n",
    "\n",
    "from util.cmap_bipolar import bipolar\n",
    "from elecpy import sim_generator\n",
    "\n",
    "from matplotlib import animation, rc\n",
    "from IPython.display import HTML\n",
    "\n",
    "import time\n",
    "\n",
    "%matplotlib inline"
   ]
  },
  {
   "cell_type": "markdown",
   "metadata": {},
   "source": [
    "## set up parameters"
   ]
  },
  {
   "cell_type": "code",
   "execution_count": 2,
   "metadata": {
    "collapsed": false
   },
   "outputs": [
    {
     "name": "stdout",
     "output_type": "stream",
     "text": [
      "{\n",
      "    \"geometory\": {\n",
      "        \"width\": 200, \n",
      "        \"ds\": 0.015, \n",
      "        \"height\": 200\n",
      "    }, \n",
      "    \"stimulation\": {\n",
      "        \"extracellular\": [\n",
      "            {\n",
      "                \"name\": \"point\", \n",
      "                \"interval\": 100.0, \n",
      "                \"start\": 0.0, \n",
      "                \"shape\": [\n",
      "                    200, \n",
      "                    200\n",
      "                ], \n",
      "                \"amplitude\": 50.0, \n",
      "                \"duration\": 10.0, \n",
      "                \"size\": [\n",
      "                    91, \n",
      "                    61, \n",
      "                    5\n",
      "                ]\n",
      "            }\n",
      "        ], \n",
      "        \"membrane\": []\n",
      "    }, \n",
      "    \"cell_type\": \"mahajan\", \n",
      "    \"log\": {\n",
      "        \"path\": \"./result\", \n",
      "        \"cnt\": 1000\n",
      "    }, \n",
      "    \"time\": {\n",
      "        \"end\": 20, \n",
      "        \"udt\": 0.001\n",
      "    }\n",
      "}\n"
     ]
    }
   ],
   "source": [
    "# load sample parameter\n",
    "with open ('sim_params.json','r') as f:\n",
    "    sim_params = json.load(f)\n",
    "\n",
    "# modify parameters\n",
    "sim_params['time']['end'] = 20\n",
    "sim_params[\"stimulation\"][\"extracellular\"][0][\"start\"] = 0.\n",
    "sim_params[\"stimulation\"][\"extracellular\"][0][\"duration\"] = 10.\n",
    "sim_params['log']['path'] = './result'\n",
    "\n",
    "print json.dumps(sim_params, indent=4)"
   ]
  },
  {
   "cell_type": "markdown",
   "metadata": {},
   "source": [
    "## set up simulator"
   ]
  },
  {
   "cell_type": "code",
   "execution_count": 3,
   "metadata": {
    "collapsed": true
   },
   "outputs": [],
   "source": [
    "g = sim_generator(sim_params)"
   ]
  },
  {
   "cell_type": "markdown",
   "metadata": {},
   "source": [
    "## run"
   ]
  },
  {
   "cell_type": "code",
   "execution_count": 4,
   "metadata": {
    "collapsed": false
   },
   "outputs": [
    {
     "name": "stdout",
     "output_type": "stream",
     "text": [
      "mkdir: cannot create directory ‘./result’: File exists\r\n"
     ]
    }
   ],
   "source": [
    "!mkdir ./result"
   ]
  },
  {
   "cell_type": "code",
   "execution_count": 5,
   "metadata": {
    "collapsed": false,
    "scrolled": false
   },
   "outputs": [
    {
     "name": "stdout",
     "output_type": "stream",
     "text": [
      "elecpy simulation start!\n",
      "Stimulation settings ...done\n",
      "Allocating data... ...done\n",
      "Initializing data... ...done\n",
      "Building PDE system ... ...done\n",
      "Main loop start!\n",
      "------------------0.0ms\n",
      "------------------1.0ms\n",
      "------------------2.0ms\n",
      "------------------3.0ms\n",
      "------------------4.0ms\n",
      "------------------5.0ms\n",
      "------------------6.0ms\n",
      "------------------7.0ms\n",
      "------------------8.0ms\n",
      "------------------9.0ms\n",
      "------------------10.0ms\n",
      "------------------11.0ms\n",
      "------------------12.0ms\n",
      "------------------13.0ms\n",
      "------------------14.0ms\n",
      "------------------15.0ms\n",
      "------------------16.0ms\n",
      "------------------17.0ms\n",
      "------------------18.0ms\n",
      "------------------19.0ms\n",
      "------------------20.0ms\n",
      "elecpy done\n"
     ]
    }
   ],
   "source": [
    "out = []\n",
    "while True:\n",
    "    img = g.next()\n",
    "    if img is False: break\n",
    "    out.append(np.copy(img))"
   ]
  },
  {
   "cell_type": "markdown",
   "metadata": {},
   "source": [
    "## visualize"
   ]
  },
  {
   "cell_type": "code",
   "execution_count": 6,
   "metadata": {
    "collapsed": false
   },
   "outputs": [
    {
     "data": {
      "text/html": [
       "<video width=\"600.0\" height=\"400.0\" controls autoplay loop>\n",
       "  <source type=\"video/mp4\" src=\"data:video/mp4;base64,AAAAHGZ0eXBNNFYgAAACAGlzb21pc28yYXZjMQAAAAhmcmVlAAAi3m1kYXQAAAKuBgX//6rcRem9\n",
       "5tlIt5Ys2CDZI+7veDI2NCAtIGNvcmUgMTQ4IHIyNjQzIDVjNjU3MDQgLSBILjI2NC9NUEVHLTQg\n",
       "QVZDIGNvZGVjIC0gQ29weWxlZnQgMjAwMy0yMDE1IC0gaHR0cDovL3d3dy52aWRlb2xhbi5vcmcv\n",
       "eDI2NC5odG1sIC0gb3B0aW9uczogY2FiYWM9MSByZWY9MyBkZWJsb2NrPTE6MDowIGFuYWx5c2U9\n",
       "MHgzOjB4MTEzIG1lPWhleCBzdWJtZT03IHBzeT0xIHBzeV9yZD0xLjAwOjAuMDAgbWl4ZWRfcmVm\n",
       "PTEgbWVfcmFuZ2U9MTYgY2hyb21hX21lPTEgdHJlbGxpcz0xIDh4OGRjdD0xIGNxbT0wIGRlYWR6\n",
       "b25lPTIxLDExIGZhc3RfcHNraXA9MSBjaHJvbWFfcXBfb2Zmc2V0PS0yIHRocmVhZHM9MTIgbG9v\n",
       "a2FoZWFkX3RocmVhZHM9MiBzbGljZWRfdGhyZWFkcz0wIG5yPTAgZGVjaW1hdGU9MSBpbnRlcmxh\n",
       "Y2VkPTAgYmx1cmF5X2NvbXBhdD0wIGNvbnN0cmFpbmVkX2ludHJhPTAgYmZyYW1lcz0zIGJfcHly\n",
       "YW1pZD0yIGJfYWRhcHQ9MSBiX2JpYXM9MCBkaXJlY3Q9MSB3ZWlnaHRiPTEgb3Blbl9nb3A9MCB3\n",
       "ZWlnaHRwPTIga2V5aW50PTI1MCBrZXlpbnRfbWluPTUgc2NlbmVjdXQ9NDAgaW50cmFfcmVmcmVz\n",
       "aD0wIHJjX2xvb2thaGVhZD00MCByYz1jcmYgbWJ0cmVlPTEgY3JmPTIzLjAgcWNvbXA9MC42MCBx\n",
       "cG1pbj0wIHFwbWF4PTY5IHFwc3RlcD00IGlwX3JhdGlvPTEuNDAgYXE9MToxLjAwAIAAAAFBZYiE\n",
       "ABP//vexj4FNyAANlzqKeh/hFbH0kFF6sdmgZOoAAAMAAAMAAAs7ztNbBr9m2tgAAAMAsUsR/jPk\n",
       "pQAFNjTE8ZVsnNDICRVDHt1NE6qFADiq1uXNLbRZIovXYXfPe9KIQ8RXckpLS0jGgrzKyHBmb4wW\n",
       "Zb2JvDXnogS219KGtpzqUWKStna3ZAZEQUIeQTPf4Ezm0D4nzPkVL2p4HzjJ7aKz6b8aFSzQCsfS\n",
       "cD6kIfWkT7E8fasD7p1V/RL2LpmG4vYb2H/OXINzWOYXuM41K2QRnl6F2CEGTCLfFr6mzRTDO28o\n",
       "aF/5TQ+B4bPsLmTF+3XnFg+mp3j/V4ayenw0moOipygmGeg+SmAGAVOhyqjvS7uA4DoIsafeSxV9\n",
       "uP0O/NHOjubXU2mef/gFPwZYa6Q0b7AA6q2fGUuXAAEPAAACGkGaJGxBP/61KoAN5m/mAApSyKXr\n",
       "J8UATylsiaXwNzjp9/vRgWWVfxlYgr35wSgTDNpJOzWgfZ5W7jkCKrckqYR9XnRukL4k0CXVAGRc\n",
       "ERCOFt9ErTxOAtdTxYl4mKd8r7Zm3Yq6sGLsw7vdC+DmkauXYZvThPJlClBFtscj4/GkwgVWIGD6\n",
       "0qk1FxvHSd+ZuHn3LCULNw71+p2XMURguIVdrWlSVhbscUVyMNh4rQto6GHPqujsk6auetYqSZBp\n",
       "7JxjraDsI70sGopQeK8kNXriHf69+v9GqSZ3uWAlTTOb5ZAT+ZOHfYO6gOOs0l9XBgj+gH2njhnc\n",
       "Ustm6VW7PpF5NxMPzcCUi+McDZQxIQq92WKSObCEzGYXRWSuPDwSZan66yx9X9ChDR/9HK8Id/Xl\n",
       "h7qOggfb9ttg0BvDmGi4hxoR4YJsAy0xYdko9MiLoWviFtt+p1l5Xe8C9MwzEElmtVfSNMoCGFjA\n",
       "/ewFm039bcDdVFIWakzzCeimAGExKM//vo4nJjIbOK1ETpooSeCJnAfiXnzoQtkAh+/XsMYoOcYK\n",
       "dlkrz2N8Z6HZBDVCuuFJCryJtJKNbON4YcXwt8RmXFBmssbRVL/cvpV9XVl3uDcUE2cqhkdvGsH8\n",
       "1BqKSJ8coHpCaseoKAw8TWCeLp5kVYPj4FU++AN0OgWxk3+JpQWb/RGrQT1OV77zcVHNiQWPzu+4\n",
       "artzFWwAAADoQZ5CeIIfAAaWh0ET9WshRVq2VnlTeIcdhA3MxWaxrsvvpxSEmXxxbB8lgOwwmrl6\n",
       "/zf0EJvMYjmJ7/T49KjBHejIK5QB8ztgOiw9hyf8az7dLLdoA1wInUKelxB37YCBhHJcyXCvytL3\n",
       "9b9RuOfZAiinmA5dwIvQLV1Z+ilafNIxYFba/ff9XaHH1icTDkDcjG5NBifkkI6WLik56R7SmkWM\n",
       "gpG+nnAJGRl/Sm9HgWWojXBUdTIVVT7VaLPcXmz++xPbI1Ko+YYV55slbPTCRpgoH4jeKlCdT6Qv\n",
       "sVLN9Vl2tqdnS+lI/wAAAGgBnmF0Q/8ADifn0kjTMupYbqoM59dbnLECIQhjyHGR3UEgjNv0fLzf\n",
       "ZRW/euIBK99POM9Xy9kqLWagDy2MDtuJBZ7zCdbxoABjz+hUSsL7h5D9Tx3eC/C1tNawBZajfOHv\n",
       "shKlC/3Z3QAAAIEBnmNqQ/8AAa93vmDfvfHChlXzbGEEAjyq7WRaS0uzXkh5JbM7YadOZElJsskk\n",
       "M7IYO1EzZ5MfzK6Z2O5Alr/b0t8L0qDs/J6Uy3SyO5f1CPFgtq/XQEC97jyZk5DTdvi+HTrHc1pm\n",
       "U8Ae0avg0sAC0LUvuE1Qzd1abKSeRLljAncAAAICQZpoSahBaJlMCCf//rUqgA3m1/MABEmrQd5y\n",
       "+7ZkHWITsvyKzXF6nX3kKgVnIpkaqms1KbdBEwwkQVNSwJ6WISB3dpuvq0oMsTbYkSuROXUbX28K\n",
       "HMqcwYA0nmuKzcgvGVQrHa00TXz9xyNyjwaV3HFk07ghYDB7D8CYCOm/0HwJPNQvhoHPt24lgD7L\n",
       "9gO8IbpzV/LaM8Bh+LxFdLfIVHF4V4+p7HyPDfDdeioP1saipirk4qDpqrun51xKIcvblYW2YXFV\n",
       "q9wjX8bdGCmQCg5/NgV2g3IRxh3OKkkf+an/3QJgYU5NNiHcjWKMOZeWAtkp9Pd3D/6Vpj9yMRrT\n",
       "xmnkPncBPErXPFVibtjizxm+2zVHQgSYK78mJE5f7qt+0BZ0wCrOpDecrUoDpoj/tUmotTf/AlVn\n",
       "MJzbO5Hlj02btSZhmYYwuzNLnBJbyX9oG8zloLwBFq8W6dGgsJryAQ56qM/p6ZbVrGt1xZw7qAqV\n",
       "zxGvGc0T45cY+TWLyJ0MguoZ4KxQjHyA79lkEJkDQ+R3qBk67JYQQWfmoyMaohNWN2s0aSknNY1J\n",
       "dmfDJFQltRER63+Z64q72nomsyrr6Qklqwq3AyiA4DMGeOmb14gbNnZ2riP0F/jggQw1ELTfPTXz\n",
       "Z0N+wzvUYU+BafoDb2SXeu/ulIdHs9ixCOkNqDb6fQAAALtBnoZFESwQ/wAEFPR0NG6trgJtAtPC\n",
       "2xbCc/1jMJ9GMSkVktiF3dhTjMdclx7v32avmku0Q3JVg7RMRyydlKuOS+7EsQ28f7/t+h1KACJ+\n",
       "H77/a02HQlhIGsL5acA+txYaYS5MADka2L4nGpD/c7fNqbiIlbT7b62gjxMrlVMRq8ZyfWncG7Qk\n",
       "RXpJh+43Av++Kunje2oIpDlrxn+gtuaDc+oR8y0NltLQDTBTpWKMTSovVdsghHB6zEG1AAAAmgGe\n",
       "pXRD/wAOJ20/s483ErfQ0hoBNpaKK4Butf7xvd4x13V453bO3piqVBslETfY4F5NYXndOch34O5Q\n",
       "mpZn3af8OeKJZjL4vl2K+W5hIwIqoH5TW5QFk/fTvoYL6T6T/niYFRIANx8qY/BaopXKE+Iu2c9U\n",
       "OQRAaMqkufPYUuuLyAG8IZqhI+dl+24pINPHQPPHzUzoQebEL4EAAACEAZ6nakP/AAksG0mFgLs7\n",
       "LCPftwgAAfcpjGyjA1mtCBuC+5cytYsrXcSBYWlhpQzhuL5sazXOQApi+VOmQg3ymQbq86K1WT/6\n",
       "2bvf6P9yzPmgyAMSl0HcchAfzRUC9QfIUt84w2LoCRMdoBsVFnTGvaT0332Ov4liTniBHEczTpwq\n",
       "p5FwAAACqkGarEmoQWyZTAgl//61KoAN5UbTON6xdBXmGEFc/UBbguZV0b4J3qITKP5+k5CNt6zs\n",
       "Vsxtvavcqh6PCI/kzlg5N1yIVPSltMBOI9tuoOV0c9LTZ9GWSQLoblikqFMjQ/zgw6/Xz/jxGfdI\n",
       "kAYi0QLE+fwZJTf5crcwKZsL6EowkOs4ri8OnEY3EslZzTtRjUAQ8yeZZa+tGf3t5fNTP7vjEtxL\n",
       "t/RAgs6g14ZlVukQnQJ+rfzYXOPtTHwtWuymDi4DUXPwyTnuk/hgwC5g8m3vqqvja2rUT+SPZWYm\n",
       "9L12r2J4CZkSNh+0RrSXbNX5L9C126T7va9x6jpBKmExUAxeLEpARGlzrqJRX+TJDYFsaZEA/Gd+\n",
       "dOWA9O05pZJEYtkkmKtxNkZRKm/0Ko4k4X6QRsKG/e/Gmsv5LL6RDYYpmUZYNybEf83wKVM7d+xQ\n",
       "BoQ695tSDMWniZhwnwnWcJdGaLPI4Hc15+QBa/TIXq/SZqlxN9Y20fuCxRXcw5OE5/sZ+4yE9Oy7\n",
       "hlMbFYaaeMdTZUuP1s5l9cYIijMUXWANeZXyx+OccBn70CWRbMRLN5InIPKo6bx8PbhuYMTbF0TU\n",
       "YcJ80bnmN2ha7UqKjWSfo+RSA+winli8qgHFPu+Um3Vof0BgPhpthB0z80+4JouHYg/eWjTeVfPJ\n",
       "saXeLH4vVVahQtx30G8fGOsKdCCeZk5UI+cLTvxttWqgaSRegCJUugWks2XkCaYMY85lSLLavMyH\n",
       "iAKglxxvPoBcgBlBXeIo6vVkcrU9CvonnCY/4BjXxQYURFBXHZvHc486SfDF0M6V67NOG9DNcx/i\n",
       "5n0jl3rGmNfY0GqDS/WaLYMI14oiN8b8bRTDi7tD1tQE/7JxcGCh4cOynOc5mHx+vxZS26YKszCm\n",
       "Wyz6StgAAAGqQZ7KRRUsEP8AAmpRqn3iOeqfQbo4tsXKlUPiS+vTOS3hx85ZHaUJMkrWdYQWDULt\n",
       "5BQjJgn1ZtNCKFTjKCuGYblU2TraD1C5ERD3sriLOudQ54dWk3iFM7QPWc8FkbnfTGhi7W8Ni2sm\n",
       "d35QgPp1Y/ZYHbjiNYiExE+3Wmi6KAWexhNQ6DZ/jR8KUU/duz4RXIC+iDqzCUvR1VHf4QjVtPNS\n",
       "x5jfCUx0H6vuTqfZzdv6jaBof0wMGduQssZcwV6BZvN4wGMPTcaMxJqS7fDK2uedNuZ8/1nQn3R7\n",
       "n/nlFxLallaMkc2ACuY2jQK6VGtcbBlyIEgNbek1GiXe3vCbuGqkDdE2iy43j3mxZlZfjaru42EQ\n",
       "3HIJakMI0dj0QAIAvbzbKeDEYYCTiY9HdHK/9kPuaL1yQ2jegATg3JE1jT5d8Ax0wFAte0ym7zTG\n",
       "bZYs69EqKT8+Hco04ILrBFa7Av+/Xt0SnusN8S+9nXK+HWYJmWACCyq5RF4KALN16iOT9gqbeAsp\n",
       "JKZRuJBER8OhSHwgoT5FdLS5Da8hUQUCGVkWzgSnioxMAKmBAAAAtgGe6XRD/wAOJrlbFM/qGdK0\n",
       "elFaRyRJwe3iut3AcODA8HY//wCPxq1gCTQpneuAyRjNy0Z2Y3RmnqF58Q3WSaUF6rzoZIM1u4BQ\n",
       "fpvEV0xXfdVXSTLwTnOT3Rnudh1wTehMXSQ5NykkVpfqr1uAhVqMUEPuW8Bp6TYPmBoisW9cHduD\n",
       "6rLGA8kyRCbN5CBUPAzfHvj52VHLHOLL1t0s0VlGSbXMsnAqWAZ8djMhfoSmM8m4IKiAAAABJwGe\n",
       "62pD/wAOJhMNrmhddwQ/X1iGx/6zi2xmej0Fh87u4kAPfTE+PMyP24v3usUhOt1czRm9wGKYAvyc\n",
       "LT7xs/6LfL7i94GTKB8O3uyDq23RLYAuytWY+ylYpugbThFpQOsDCT2tyOd9Aiu9KVUpyzGo6QO9\n",
       "hpl+X6XjNExpg+C35h4VLIMJXxUceBofTehj31O1xzcM6XbbOMNrDyXhAkn/OhNxI73TAvQgUHi9\n",
       "7a/fREI3DXdKxRyFnL1kUgHI8m5k3kLb3/lAlGv7Qqep2NZosg00ZRBYty4JKVOkERfr46ginHbP\n",
       "qiAav9UWmwieqxGyvG2hj/Bz0Jn2FgY7ZJ1wAtUs5GjwVeBB8HddSZLCMrM8xKWpw9rh7Lh6Br+a\n",
       "l1LA9O/g7oAAAAIMQZrtSahBbJlMCCX//rUqgA3kfmeywAEGjtArlAjZgFlyhyAQ+guQk/47Lcw6\n",
       "5x6/YtNgP/Gfb0b42ZJwneF+yc8sIdNwAq+2rS1HNM0IiwDyjjev9xcKlMG5XqVdK3cCKlGMnyyX\n",
       "0AHGgPbdwgr6lqDbJcVqyCq8QZKM591sSKVPXnAXgusFcgyR1nlYVFO95Cv2lvRM7Wu23QZJODcI\n",
       "wVCryHjyI7hGHHfnkC4zyo3d71BsTxFfe7mzlrNw2j4FD4a3N57hbc7i3mFIPqJNloTzY7OxPku+\n",
       "stPZ4TlM8+7U4+8JBsrgNhz92tFUFjoiHJXdnMlKbrynekxp7wabXwVzzFVYr+uODGs974HMeTA1\n",
       "2RczkoZDbbdjavpMk9vTw019D9L08TxH/ntZHT6CtIxzY1oMALiWkPP4yJ5bjZ/LSPRM9I7Fo7G/\n",
       "qzstLdmT4Fyi/vnPsTOe12IPLyIU07LqPosm5JIRrgQsHiePbfANKz/0ofDe+D4afQxrrMF/VOP/\n",
       "Lpd1HGO0Tyl/qfS8xzKN1Iu95mSCIV31uK7NqqbgXak7/dFXlZX/stDsmO1AH5mQzYE1TOxbVw04\n",
       "hbGWZyKoKAXqJqBlzZkgiXs3aOFCPg6WFg2P/BgGoef9oOF8BxaYAqTjOOG/dVgqS5uvwS6WaJl6\n",
       "lUXsnqG8ajU+aW6yn0UVxJa3Y2v0WWEAAAJSQZsOSeEKUmUwIJf//rUqgAVT5ixX4dlikfSG0nTF\n",
       "KK3vsmmSERwdxYAQYRlu8VfIrUb5NI2x0U7/kXJ7za9DNfN+n97xaHmbsggiI2OTR8YRgo3wj8Rx\n",
       "0qRzofyip/PRLz/vJ+6ljFdzx5SomMaK9rtaV/A4VUgIUC0YCiwxCK/y+4jOasgjwkdYlVbqL7sh\n",
       "l3F+LhLB4kvhXHdoVP9s9ADgy8gv8+ly9JCwQ6/NxEhT/spyDyfVSDzsASBMsh//2PGcQNBq4mSo\n",
       "jkErw76h3ynrxCv+wjdoUoNj3ESmAmkTdTF+AMOB0nOMys2Iq2A9ds5nfIOTJJ1EpxyQgcVOPlEX\n",
       "FZMBPiveabnm/3iepTgU6+EbRyGXgSjx9GiEvT5B8VXL/3+ugh82GQgtpsL5ru3XpJbAIXN23eqE\n",
       "Dz97SBGxuGqJVvci+Mzm3P2NWP2EvBnDbAmmwgQkHdb/KLMGOMnF+wOQg0yp+1w/O1v/fPIrWHbQ\n",
       "ehqAyyIytKk8m3gxENh1ZlsHcXmfUtgKONtghwKiYmICf7lpcpWOD3odFr1HsKPqa1+uU2+K2GBF\n",
       "ldG7/IN/4WVw0WyQmIjkAjKecg720nozeSCJqEjTsWBGFtPuYINL9uT/PUEEqnClFHhSL7JD0/qI\n",
       "Xc01I27D1wJXCgd23K7EpCV5XpgVBXd8SEfgcxu8QzLxEyBEVHyoHSt6I5IoL/5AmnIiQPjIgWps\n",
       "aCKomTcKuOXEiRnzkf7JAh118WvnhfxQ/vshFMQXFRNk7KjNTgM5vzdpkidt4vWeoKPhAAACRUGb\n",
       "L0nhDomUwIJf/rUqgAiDczEALATVr7JkMlctpV/zoIBVN8L9vQx9e9IZ6nD1xleLfZ0Mm8mIhE9Q\n",
       "+S17sgSYDS4bxzkTi0h47soBmrR9GLD7j6tBNg+eYtygD7C4qQ9VYmKDfyipTWr2VwKXHLeGge7L\n",
       "e6/6ow/t2EXW9LOsnc8qX8MZ/KajGH8nOVk7mgGLNBM/r0W5j+b9+nGkrIqLe2RiOBFzSMlqQo2n\n",
       "mNKkTZLbocNSlf3aCjKingbU9eKC6Nc+UYdxt2i2fQfVFBekCWgqlnXWJqMURxJQfHLItuQlCAq8\n",
       "BcQD54pXoMI+sH8Eb2uu6mEfAct1ry2BHT/42D1jcYccNreqd1USy+C5WLyA3+3xEIzmC1+VuI8s\n",
       "Eox8lXbCvxL7TkqSHQZUjeg6F3D/IypCWN0FfQrjOPMOaK4//KeXZ24rBWxZR9H3e3K8BZxVVN51\n",
       "V1gC+WMdzxm3IUPd8/8Yp1cppywj+6jwqP1mRvSCdzdyIQkcwfko94bboC4vEtvB36Mpw+jUQ3UR\n",
       "WXLI1kp0sAMMu4y7R59zZH7+6a8EW6N6a9wOuqq9dCUXf0n9r01AusAcLvj3tKoiPHKe3TWrOME4\n",
       "2gUgxpqgN1bX+9LpBlXeQf+Rxqg5ziWNZvfBgIMgUd+nHPHVRo32AZF9jR+Pc/aXg/CM/YO9xZKi\n",
       "Tlxn1jNCszAhL86E+Y1/kOoaXBPFMgQ+ByUOTSV9+p0bni0n1QtY0DhGZwFqY7/s8fYbOZexVYwx\n",
       "+GndSCgsTWNBAAADKEGbU0nhDyZTAgh//qpVABspRTlF0dizV96Vi7YAWaC1w/lHEOY0/3sVAdW5\n",
       "FO7yBqIvx6JuMKZlViIk+K1TuCFedvbBnpW9lXXRBEce62x4mrFxWHPbGQ677gaZr66LFjeMSVCj\n",
       "jNwsf1VEO/xepu0CXcQq3hWvRA7OTwEg8BXiT2Lj6g5hGfXLYxkVOG8gav3XsuJZox009tXwhcMZ\n",
       "Xv5PopoJRpfpte0xUqtWpOlDNV0ybBrjNIcVNN2VyJeMLCOKM234T24Y0OTpKF2bo7YRMYHHldJm\n",
       "UJF1CP9DAan23+D0SPuXK2NKVkgT0wu/D/hAO0bNotukLFGXKJtEu/I8b3NvHfKeek2WX075PzJc\n",
       "JQQ5uSxQL4rBpRWY+fs/2GdnYHMguoz4iUYStmjk8JuAfcBsOSAxD4Z9boFgJYuRKIDRKkhN+7cG\n",
       "FNUWa9s0HbYscnzeQm8lvUzn/mDdYDsyzGNJg8DEIq3MuI2ea7tgQeAgozO8s0KuVPwUTZd5feGy\n",
       "B+46+vxK0PEkTBBHsZEu5NnJEMVUJpoGnvgCzeR35kNaHwKcoizaqso+H+Y6iKBE7BpV99oAflYf\n",
       "mH/GaxaYucjKAtgWCrBkualdUBke/2uTrlxYhn2EW3Qt5O7DWd1Caq/krlaXlnooKO7vN48o/lGa\n",
       "bG2ki4bVm3EbwALjGzKankdZH5l4HtqjRuESGIdkQS6lEP4nKcdCMsi9xB/X5b4fWw9CDBm/wlFH\n",
       "a18SiSo60yrNLxDm+9HhNxQ+xcLX7ikZvTANpqIB33U9V3I/aklKear1ptHvyGZV39/suh0rgChI\n",
       "zJ0RthFNGSsHf1C9usWNHr0lPvtE9Dn7GE+v/eAmGpphRb0dIBMDOQMD3vwIDqH0Q+SHxxXF3+F1\n",
       "dHM/w9G9XQyYnfzY25+KbgE5QXt85whepBDjcBXh1HqM9P38XqXMwLR9BwfE9oJOLdXLqOelCv7d\n",
       "yxLYgJuSIzdt9QLKSXnrR4IH1M6KHQch2H4gHV5Xh9VJxS6O5zMyEUh83W2eTRXgUNv1En5epLeE\n",
       "UaM6MME8Uw+B7cZoSirHkXEhkKmUi4AAAAI+QZ9xRRE8EP8ABm34insQJHLQI7PbXe2gxzBUtbZ1\n",
       "CgslEnfYFuHMmFAnkIxLNFtd2mtzvUKEK0CUVYlH4KlJmk4iB5uz6o9uoQXdbo2xgyqMTuyle3hA\n",
       "4JJvTajWFssohKuLgYd/N3u5kqtaW/FFKjW4LP4HbCiGjkkc8RFETnVX2o12Uoq6h+5lz0y3l2v6\n",
       "0FtSghOSPK/KfWNQOQqcTLdtuFtUBMD50tHsJ4j3h1jbFEQVkjtrVxbG63CkEKMoHCB8o8nGMMpX\n",
       "krKV3PMAJ9vCJ8JlPB3x69GwHxUzgw0n8Tk9n72WRZupMu0Dug9IZWZQsjFJ5/zjDITn2aQbhWJ5\n",
       "ChMZlOcbLy+kdkI3V/lEjTFt2Xh9o4FDevogPC0tRiGDnlsXvLpgyPiKvnh8krYk1Vgnykgtfr25\n",
       "UW0VBM3zCKIposK/l4m88qxP0+zc/BLXGWn3m0g4a2bVkzCNsaXE6sBY73TNb62tCpH3XaiO8zj4\n",
       "r1o5D+eAHZoHugIIdwmh3E9g73jKVmanKwsoJqrmvSBG1Ykd+APXqizHibyAUjUomlgn4PPsXONY\n",
       "lJNs4G9s6MdaxjgKowCF6qgoZbtRTLl9t/7KdIuFiX+21qHHaONrwCyq1Sv5s1DwAfSnrtMwXxlZ\n",
       "lJrjv/rm1DxoKjzlPLhJAiorEZIlQjy3ktu2FUpWByJwh1BoOGdqyl4iyp4YKH+5q/xBOd7n2Ywv\n",
       "DqVe45Y/AVtLRc3f1ltxLQX96O5K6wW9FBoJI/aUHAAAAVsBn5B0Q/8ADiV8QxFnT/UM68t3Ko16\n",
       "zTGat91Eh2ZfMxdB1xl6HmIvtIE4s/KM3tpKFPpAqkm3lQq36g6JLNDgEsfxfzbyicsos/CPaDr8\n",
       "iWg9owX8KYTvTiGZMkZosesUCOR5TMIxjZ0ef1gCMZEKZiS2hkNT/ncgbkaUMG3THZGPqJ3UCQX4\n",
       "MGeMSI4YHOfswOSiIh4X9ciqc1XNcIFvJGd4y4dRX7mn1mFKhMbvm3kHV0nHwWW9+U787hGMgMoq\n",
       "K65ETPy0LVDTZaxdDo7unw3LciVhIiBBpB/bR9heW/aIW4whArYX++Sdt5tqIJchE6pgL3XxRVmD\n",
       "fnDz88ygKWdEqM9Gb1DJaBp7fNPHuFPm+7qed2BUlClZTh2Ga04vsXX80k3TSCFCbIm5mUcECHee\n",
       "W+WEO6AbSAIfWoj71j9Niwo8tr7Tb3dgqNUNv/3XicEWvMg3d9BHzQAAAXgBn5JqQ/8ADiUsNeUc\n",
       "53laEY/M3hMGloEU3Fi/T6aRajfbmstvmW8u3nK77pmzBXHGrImYfmB4MHF1v3VPFNvM4i3Ov8Xy\n",
       "oMYVUIkBDkBilxjxvOlfgnDcjWB7Cpm/9iULipEtBg6PBo/TUvKnGJ5ubfok8NOdSjqrmOzJz91p\n",
       "uSFTLtu29r6empQdtENgGVhBq5tN2mKBDLZ5kIjbyadee8AmS3eRfNbJRgWK1iSCfkILlmteeTlc\n",
       "4AT4Ah0o/i33wK7WGMsoJRmtbxuvYEi9O4xFHgtVe4yC1cCLwJH7kb+rGBrkHDMsREgG0hGQhhpd\n",
       "zA/S9zOF+UA5nxkY9oX8vwhIugDh1inloi28cvTa6I06lUdlYvOOzJJI0S9WaiD/uPXGHCDe12Uf\n",
       "GD2FeURtCKXBP993BTBuX/mxEuZYUecaxnP9YfZpPrdjPZ4DA84E9Xqz/FaoBGwWfUvhM65e2l+E\n",
       "CUybtx2feP1H+nIjpQ6yXPoC+4poAAABvEGblEmoQWiZTAh///6plgAFv94QsWOkStKGsdLcpK9P\n",
       "EYbQArzS4GtQiA0ZdlwYkaY94ll1PsrgbOtG/1fZyUdgu8hmANV3UqWCWgY2KFtVObxHNn8a1c8O\n",
       "0NX0aiDxoIk/GTU2ENokxZ+Uc8cOuxWiY2f+lFbiPCzL7U8fPzKfZVRb6cMrcBletfwjTGTgT1JI\n",
       "xDaZ0+GcyjD0jsIwuzP/6QqVmLluSDOtn61QSgx7QtyAlAW1AQ22tBFbQGvYiiBcenV3DaxGab7a\n",
       "6QlxuHFu4kRwhn3sk2+26f82VfH1snxqwYTJdXP1cw8Ib660U2EtUGnh4IE+9leDxYFxCV472NVc\n",
       "5YAj3wswfjm2no/0BjAhlbASBibkNE5LMCEnAQ4WpUza3WYaIvmokgZ4gyuqtfLAYDs7DEyPy+zC\n",
       "7JA15ofxJPZuDM6iZu/Aa74TW2fOG1dCdy7WpH0ZWth+OTrmb+RQKGzeYBzqCuVxTdndF1gngsm6\n",
       "iHsq15qmHEnFTax7me08avGF4DWp8q1QuR71cjEveVOI4o19mzioJc/CE1EIio8hiGUMKNbi8qhp\n",
       "F6Ee60dNu6lii7/xwAAABBttb292AAAAbG12aGQAAAAAAAAAAAAAAAAAAAPoAAAQaAABAAABAAAA\n",
       "AAAAAAAAAAAAAQAAAAAAAAAAAAAAAAAAAAEAAAAAAAAAAAAAAAAAAEAAAAAAAAAAAAAAAAAAAAAA\n",
       "AAAAAAAAAAAAAAAAAAACAAADRXRyYWsAAABcdGtoZAAAAAMAAAAAAAAAAAAAAAEAAAAAAAAQaAAA\n",
       "AAAAAAAAAAAAAAAAAAAAAQAAAAAAAAAAAAAAAAAAAAEAAAAAAAAAAAAAAAAAAEAAAAACWAAAAZAA\n",
       "AAAAACRlZHRzAAAAHGVsc3QAAAAAAAAAAQAAEGgAABAAAAEAAAAAAr1tZGlhAAAAIG1kaGQAAAAA\n",
       "AAAAAAAAAAAAACgAAACoAFXEAAAAAAAtaGRscgAAAAAAAAAAdmlkZQAAAAAAAAAAAAAAAFZpZGVv\n",
       "SGFuZGxlcgAAAAJobWluZgAAABR2bWhkAAAAAQAAAAAAAAAAAAAAJGRpbmYAAAAcZHJlZgAAAAAA\n",
       "AAABAAAADHVybCAAAAABAAACKHN0YmwAAAC0c3RzZAAAAAAAAAABAAAApGF2YzEAAAAAAAAAAQAA\n",
       "AAAAAAAAAAAAAAAAAAACWAGQAEgAAABIAAAAAAAAAAEAAAAAAAAAAAAAAAAAAAAAAAAAAAAAAAAA\n",
       "AAAAAAAAAAAY//8AAAAyYXZjQwFkABb/4QAZZ2QAFqzZQJgz5eEAAAMAAQAAAwAKDxYtlgEABmjr\n",
       "48siwAAAABx1dWlka2hA8l8kT8W6OaUbzwMj8wAAAAAAAAAYc3R0cwAAAAAAAAABAAAAFQAACAAA\n",
       "AAAUc3RzcwAAAAAAAAABAAAAAQAAAKhjdHRzAAAAAAAAABMAAAABAAAQAAAAAAEAACgAAAAAAQAA\n",
       "EAAAAAABAAAAAAAAAAEAAAgAAAAAAQAAKAAAAAABAAAQAAAAAAEAAAAAAAAAAQAACAAAAAABAAAo\n",
       "AAAAAAEAABAAAAAAAQAAAAAAAAABAAAIAAAAAAMAABAAAAAAAQAAKAAAAAABAAAQAAAAAAEAAAAA\n",
       "AAAAAQAACAAAAAABAAAQAAAAABxzdHNjAAAAAAAAAAEAAAABAAAAFQAAAAEAAABoc3RzegAAAAAA\n",
       "AAAAAAAAFQAAA/cAAAIeAAAA7AAAAGwAAACFAAACBgAAAL8AAACeAAAAiAAAAq4AAAGuAAAAugAA\n",
       "ASsAAAIQAAACVgAAAkkAAAMsAAACQgAAAV8AAAF8AAABwAAAABRzdGNvAAAAAAAAAAEAAAAsAAAA\n",
       "YnVkdGEAAABabWV0YQAAAAAAAAAhaGRscgAAAAAAAAAAbWRpcmFwcGwAAAAAAAAAAAAAAAAtaWxz\n",
       "dAAAACWpdG9vAAAAHWRhdGEAAAABAAAAAExhdmY1Ni40MC4xMDE=\n",
       "\">\n",
       "  Your browser does not support the video tag.\n",
       "</video>"
      ],
      "text/plain": [
       "<IPython.core.display.HTML object>"
      ]
     },
     "execution_count": 6,
     "metadata": {},
     "output_type": "execute_result"
    },
    {
     "data": {
      "image/png": "[encoded data removed]",
      "text/plain": [
       "<matplotlib.figure.Figure at 0x7f2288545ed0>"
      ]
     },
     "metadata": {},
     "output_type": "display_data"
    }
   ],
   "source": [
    "fig = plt.figure()\n",
    "plt.axis('off')\n",
    "\n",
    "ims = []\n",
    "for img in out:\n",
    "    im = plt.imshow(\n",
    "        img.reshape(200,200),\n",
    "        vmin = -100.0, vmax = 20.0,\n",
    "        cmap=bipolar(neutral=0, lutsize=1024),\n",
    "        interpolation='nearest')\n",
    "    ims.append([im])\n",
    "\n",
    "ani = animation.ArtistAnimation(fig, ims)\n",
    "#ani.save('anim.gif', writer=\"imagemagick\")\n",
    "#ani.save('anim.mp4', writer=\"ffmpeg\")\n",
    "#plt.show()\n",
    "\n",
    "HTML(ani.to_html5_video())\n"
   ]
  }
 ],
 "metadata": {
  "kernelspec": {
   "display_name": "Python 2",
   "language": "python",
   "name": "python2"
  },
  "language_info": {
   "codemirror_mode": {
    "name": "ipython",
    "version": 2
   },
   "file_extension": ".py",
   "mimetype": "text/x-python",
   "name": "python",
   "nbconvert_exporter": "python",
   "pygments_lexer": "ipython2",
   "version": "2.7.15"
  }
 },
 "nbformat": 4,
 "nbformat_minor": 2
}
